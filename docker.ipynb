{
 "cells": [
  {
   "cell_type": "code",
   "execution_count": 1,
   "id": "53cb4e4e",
   "metadata": {},
   "outputs": [
    {
     "name": "stdout",
     "output_type": "stream",
     "text": [
      "Collecting psycopg2\n",
      "  Downloading psycopg2-2.9.3-cp39-cp39-win_amd64.whl (1.2 MB)\n",
      "Installing collected packages: psycopg2\n",
      "Successfully installed psycopg2-2.9.3\n"
     ]
    },
    {
     "name": "stderr",
     "output_type": "stream",
     "text": [
      "ERROR: Could not find a version that satisfies the requirement pprint (from versions: none)\n",
      "ERROR: No matching distribution found for pprint\n"
     ]
    }
   ],
   "source": [
    "!pip install psycopg2\n",
    "!pip install pprint"
   ]
  },
  {
   "cell_type": "code",
   "execution_count": 171,
   "id": "09584130",
   "metadata": {},
   "outputs": [
    {
     "name": "stdout",
     "output_type": "stream",
     "text": [
      "Requirement already satisfied: psycopg2 in c:\\users\\stuti\\anaconda3\\lib\\site-packages (2.9.3)\n",
      "Requirement already satisfied: pprintpp in c:\\users\\stuti\\anaconda3\\lib\\site-packages (0.4.0)\n"
     ]
    }
   ],
   "source": [
    "!pip install psycopg2\n",
    "!pip install pprintpp"
   ]
  },
  {
   "cell_type": "code",
   "execution_count": 172,
   "id": "7e857735",
   "metadata": {},
   "outputs": [],
   "source": [
    "import psycopg2  \n",
    "import pprint "
   ]
  },
  {
   "cell_type": "code",
   "execution_count": 173,
   "id": "c2cd2800",
   "metadata": {},
   "outputs": [
    {
     "name": "stdout",
     "output_type": "stream",
     "text": [
      "   serial      first        last         dob                            email\n",
      "0       1       Jane         Doe  05-02-1995  jane.doe@postgresqltutorial.com\n",
      "1       2      Stuti  chaturvedi  02-04-1998     stutichaturvedi244@gmail.com\n",
      "2       3       Irum     Hussain  13-02-1998         irumhussain233@gmail.com\n",
      "3       4  Haripriya     goswami  02-08-1999           haripriya235@gmail.com\n",
      "4       5     vrinda       patel  05-08-1999         vrindapatel666@gmail.com\n",
      "5       6    yashita    vajpayee  03-07-1998     yashitavajpayee234@gmail.com\n"
     ]
    }
   ],
   "source": [
    "import pandas as pd\n",
    "df=pd.read_csv(\"pers.csv\")\n",
    "print(df)"
   ]
  },
  {
   "cell_type": "code",
   "execution_count": 181,
   "id": "6a4159dc",
   "metadata": {},
   "outputs": [
    {
     "ename": "SyntaxError",
     "evalue": "cannot assign to operator (Temp/ipykernel_14520/3194583613.py, line 8)",
     "output_type": "error",
     "traceback": [
      "\u001b[1;36m  File \u001b[1;32m\"C:\\Users\\stuti\\AppData\\Local\\Temp/ipykernel_14520/3194583613.py\"\u001b[1;36m, line \u001b[1;32m8\u001b[0m\n\u001b[1;33m    insert_query = \"\"\"INSERT INTO PERSONS(ID,first_name,last_name,dob,email) VALUES (\"\"\"+ans=cursor.fetchone()+1+\"\"\", 'AEISHA', 'CHATURVEDI','08-07-1998','AEISHAYATURVEDI234@GMAIL.COM')\"\"\"\u001b[0m\n\u001b[1;37m                   ^\u001b[0m\n\u001b[1;31mSyntaxError\u001b[0m\u001b[1;31m:\u001b[0m cannot assign to operator\n"
     ]
    }
   ],
   "source": [
    "try:\n",
    "    Conn = psycopg2.connect(host=\"localhost\",\n",
    "    database=\"test\",\n",
    "    user=\"postgres\",\n",
    "    password=\"password\")\n",
    "    cursor = Conn.cursor()\n",
    "    # Executing a SQL query to insert data into  table\n",
    "    insert_query = \"\"\"INSERT INTO PERSONS(ID,first_name,last_name,dob,email) VALUES (\"\"\"+ans=cursor.fetchone()+1+\"\"\", 'AEISHA', 'CHATURVEDI','08-07-1998','AEISHAYATURVEDI234@GMAIL.COM')\"\"\"\n",
    "#query='''\\COPY persons(first_name, last_name, dob, email)\n",
    "#FROM 'pers.csv' DELIMITER ',' CSV HEADER;'''\n",
    "    cursor.execute(insert_query)\n",
    "    \n",
    "    Conn.commit()\n",
    "    print(\"Record inserted successfully\")\n",
    "#Conn.close()\n",
    "# Fetch result\n",
    "    cursor.execute(\"SELECT * from PERSONS\")\n",
    "    record = cursor.fetchall()\n",
    "    print(\"Result \", record)\n",
    "   # cursor.execute(\"DESC TABLE\")\n",
    "#update record\n",
    "    query=\"\"\"Update PERSONS set first_name = 'susa' where id = 1\"\"\"\n",
    "    cursor.execute(query)\n",
    "    Conn.commit()\n",
    "except (Exception, psycopg2.Error) as error:\n",
    "    print(\"Error while connecting to PostgreSQL\", error)\n",
    "finally:\n",
    "    if Conn:\n",
    "        cursor.close()\n",
    "        Conn.close()\n",
    "        print(\"PostgreSQL connection is closed\")\n",
    "#Conn.close()"
   ]
  },
  {
   "cell_type": "code",
   "execution_count": 168,
   "id": "12f2b18d",
   "metadata": {},
   "outputs": [
    {
     "name": "stdout",
     "output_type": "stream",
     "text": [
      "table CREATED successfully\n",
      "Result  [(1, 'BITS PILANI', 'PILANI,RAJASTHAN', 1)]\n",
      "PostgreSQL connection is closed\n"
     ]
    }
   ],
   "source": [
    "try:\n",
    "    Conn = psycopg2.connect(host=\"localhost\",\n",
    "    database=\"test\",\n",
    "    user=\"postgres\",\n",
    "    password=\"password\")\n",
    "    cursor = Conn.cursor()\n",
    "    # Executing a SQL query to insert data into  table\n",
    "    cursor.execute(\"DROP TABLE University\")\n",
    "    Conn.commit()\n",
    "    Create_table = \"\"\"create table University(UID INTEGER,NAME VARCHAR(20),LOCATION VARCHAR(30),STUDENTID INTEGER, FOREIGN KEY(STUDENTID) REFERENCES PERSONS(ID))\"\"\"\n",
    "#query='''\\COPY persons(first_name, last_name, dob, email)\n",
    "#FROM 'pers.csv' DELIMITER ',' CSV HEADER;'''\n",
    "    cursor.execute(Create_table)\n",
    "    Conn.commit()\n",
    "    print(\"table CREATED successfully\")\n",
    "#Conn.close()\n",
    "# Executing a SQL query to insert data into  table\n",
    "    insert_query = \"\"\"INSERT INTO University(UID,NAME,LOCATION,STUDENTID) VALUES (1, 'BITS PILANI','PILANI,RAJASTHAN','1')\"\"\"\n",
    "#query='''\\COPY persons(first_name, last_name, dob, email)\n",
    "#FROM 'pers.csv' DELIMITER ',' CSV HEADER;'''\n",
    "    cursor.execute(insert_query)\n",
    "    Conn.commit()\n",
    "# Fetch result\n",
    "    cursor.execute(\"SELECT * from University\")\n",
    "    record = cursor.fetchall()\n",
    "    print(\"Result \", record)\n",
    "#update record\n",
    "   # query=\"\"\"Update PERSONS set first_name = 'susa' where id = 1\"\"\"\n",
    "    #cursor.execute(query)\n",
    "    #Conn.commit()\n",
    "except (Exception, psycopg2.Error) as error:\n",
    "    print(\"Error while connecting to PostgreSQL\", error)\n",
    "finally:\n",
    "    if Conn:\n",
    "        cursor.close()\n",
    "        Conn.close()\n",
    "        print(\"PostgreSQL connection is closed\")\n",
    "#Conn.close()"
   ]
  },
  {
   "cell_type": "code",
   "execution_count": 170,
   "id": "97cb4136",
   "metadata": {},
   "outputs": [
    {
     "name": "stdout",
     "output_type": "stream",
     "text": [
      "Result  [('susa', 'CHATURVEDI', 'BITS PILANI')]\n",
      "Record inserted successfully\n",
      "PostgreSQL connection is closed\n"
     ]
    }
   ],
   "source": [
    "try:\n",
    "    Conn = psycopg2.connect(host=\"localhost\",\n",
    "    database=\"test\",\n",
    "    user=\"postgres\",\n",
    "    password=\"password\")\n",
    "    cursor = Conn.cursor()\n",
    "    # Executing a SQL query to insert data into  table\n",
    "    insert_query =\"\"\"SELECT p.first_name,p.last_name,u.NAME FROM PERSONS p,University u WHERE u.STUDENTID=p.ID\"\"\"\n",
    "#query='''\\COPY persons(first_name, last_name, dob, email)\n",
    "#FROM 'pers.csv' DELIMITER ',' CSV HEADER;'''\n",
    "    cursor.execute(insert_query)\n",
    "    record = cursor.fetchall()\n",
    "    print(\"Result \", record)\n",
    "    Conn.commit()\n",
    "    print(\"Record inserted successfully\")\n",
    "#Conn.close()\n",
    "\n",
    "#update record\n",
    "  \n",
    "    Conn.commit()\n",
    "except (Exception, psycopg2.Error) as error:\n",
    "    print(\"Error while connecting to PostgreSQL\", error)\n",
    "finally:\n",
    "    if Conn:\n",
    "        cursor.close()\n",
    "        Conn.close()\n",
    "        print(\"PostgreSQL connection is closed\")\n",
    "#Conn.close()"
   ]
  },
  {
   "cell_type": "code",
   "execution_count": 184,
   "id": "34a64d40",
   "metadata": {},
   "outputs": [
    {
     "ename": "TypeError",
     "evalue": "cursor.fetchone() takes no arguments (1 given)",
     "output_type": "error",
     "traceback": [
      "\u001b[1;31m---------------------------------------------------------------------------\u001b[0m",
      "\u001b[1;31mTypeError\u001b[0m                                 Traceback (most recent call last)",
      "\u001b[1;32m~\\AppData\\Local\\Temp/ipykernel_14520/3531526783.py\u001b[0m in \u001b[0;36m<module>\u001b[1;34m\u001b[0m\n\u001b[0;32m      4\u001b[0m password=\"password\")\n\u001b[0;32m      5\u001b[0m \u001b[0mcursor\u001b[0m \u001b[1;33m=\u001b[0m \u001b[0mConn\u001b[0m\u001b[1;33m.\u001b[0m\u001b[0mcursor\u001b[0m\u001b[1;33m(\u001b[0m\u001b[1;33m)\u001b[0m\u001b[1;33m\u001b[0m\u001b[1;33m\u001b[0m\u001b[0m\n\u001b[1;32m----> 6\u001b[1;33m \u001b[0mans\u001b[0m\u001b[1;33m=\u001b[0m\u001b[0mcursor\u001b[0m\u001b[1;33m.\u001b[0m\u001b[0mfetchone\u001b[0m\u001b[1;33m(\u001b[0m\u001b[1;34m\"select ID from PERSONS\"\u001b[0m\u001b[1;33m)\u001b[0m\u001b[1;33m\u001b[0m\u001b[1;33m\u001b[0m\u001b[0m\n\u001b[0m\u001b[0;32m      7\u001b[0m \u001b[0mprint\u001b[0m\u001b[1;33m(\u001b[0m\u001b[0mans\u001b[0m\u001b[1;33m)\u001b[0m\u001b[1;33m\u001b[0m\u001b[1;33m\u001b[0m\u001b[0m\n",
      "\u001b[1;31mTypeError\u001b[0m: cursor.fetchone() takes no arguments (1 given)"
     ]
    }
   ],
   "source": [
    "Conn = psycopg2.connect(host=\"localhost\",\n",
    "database=\"test\",\n",
    "user=\"postgres\",\n",
    "password=\"password\")\n",
    "cursor = Conn.cursor()\n",
    "ans=cursor.fetchone()\n",
    "print(ans)"
   ]
  },
  {
   "cell_type": "code",
   "execution_count": null,
   "id": "b5a90a76",
   "metadata": {},
   "outputs": [],
   "source": []
  }
 ],
 "metadata": {
  "kernelspec": {
   "display_name": "Python 3 (ipykernel)",
   "language": "python",
   "name": "python3"
  },
  "language_info": {
   "codemirror_mode": {
    "name": "ipython",
    "version": 3
   },
   "file_extension": ".py",
   "mimetype": "text/x-python",
   "name": "python",
   "nbconvert_exporter": "python",
   "pygments_lexer": "ipython3",
   "version": "3.9.7"
  }
 },
 "nbformat": 4,
 "nbformat_minor": 5
}
