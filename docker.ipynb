{
 "cells": [
  {
   "cell_type": "code",
   "execution_count": 1,
   "id": "212c9240",
   "metadata": {},
   "outputs": [
    {
     "name": "stdout",
     "output_type": "stream",
     "text": [
      "Collecting psycopg2\n",
      "  Downloading psycopg2-2.9.3-cp39-cp39-win_amd64.whl (1.2 MB)\n",
      "Installing collected packages: psycopg2\n",
      "Successfully installed psycopg2-2.9.3\n"
     ]
    },
    {
     "name": "stderr",
     "output_type": "stream",
     "text": [
      "ERROR: Could not find a version that satisfies the requirement pprint (from versions: none)\n",
      "ERROR: No matching distribution found for pprint\n"
     ]
    }
   ],
   "source": [
    "!pip install psycopg2\n",
    "!pip install pprint"
   ]
  },
  {
   "cell_type": "code",
   "execution_count": 171,
   "id": "5493c6b7",
   "metadata": {},
   "outputs": [
    {
     "name": "stdout",
     "output_type": "stream",
     "text": [
      "Requirement already satisfied: psycopg2 in c:\\users\\stuti\\anaconda3\\lib\\site-packages (2.9.3)\n",
      "Requirement already satisfied: pprintpp in c:\\users\\stuti\\anaconda3\\lib\\site-packages (0.4.0)\n"
     ]
    }
   ],
   "source": [
    "!pip install psycopg2\n",
    "!pip install pprintpp"
   ]
  },
  {
   "cell_type": "code",
   "execution_count": 172,
   "id": "383411e6",
   "metadata": {},
   "outputs": [],
   "source": [
    "import psycopg2  \n",
    "import pprint "
   ]
  },
  {
   "cell_type": "code",
   "execution_count": 173,
   "id": "ee610d0b",
   "metadata": {},
   "outputs": [
    {
     "name": "stdout",
     "output_type": "stream",
     "text": [
      "   serial      first        last         dob                            email\n",
      "0       1       Jane         Doe  05-02-1995  jane.doe@postgresqltutorial.com\n",
      "1       2      Stuti  chaturvedi  02-04-1998     stutichaturvedi244@gmail.com\n",
      "2       3       Irum     Hussain  13-02-1998         irumhussain233@gmail.com\n",
      "3       4  Haripriya     goswami  02-08-1999           haripriya235@gmail.com\n",
      "4       5     vrinda       patel  05-08-1999         vrindapatel666@gmail.com\n",
      "5       6    yashita    vajpayee  03-07-1998     yashitavajpayee234@gmail.com\n"
     ]
    }
   ],
   "source": [
    "import pandas as pd\n",
    "df=pd.read_csv(\"pers.csv\")\n",
    "print(df)"
   ]
  },
  {
   "cell_type": "code",
   "execution_count": 177,
   "id": "1f3887f2",
   "metadata": {},
   "outputs": [
    {
     "name": "stdout",
     "output_type": "stream",
     "text": [
      "Record inserted successfully\n",
      "Result  [(2, 'SMARIDHI', 'CHATURVEDI', datetime.date(1998, 2, 4), 'STUTICHATURVEDI234@GMAIL.COM'), (4, 'SMARIDHI', 'CHATURVEDI', datetime.date(1998, 2, 4), 'STUTICHATURVEDI234@GMAIL.COM'), (5, 'SMARIDHI', 'CHATURVEDI', datetime.date(1998, 2, 4), 'STUTICHATURVEDI234@GMAIL.COM'), (6, 'SMARIDHI', 'CHATURVEDI', datetime.date(1998, 2, 4), 'STUTICHATURVEDI234@GMAIL.COM'), (1, 'susa', 'CHATURVEDI', datetime.date(1998, 2, 4), 'STUTICHATURVEDI234@GMAIL.COM'), (7, 'SMARIDHI', 'CHATURVEDI', datetime.date(1998, 2, 4), 'STUTICHATURVEDI234@GMAIL.COM'), (8, 'AEISHA', 'CHATURVEDI', datetime.date(1998, 8, 7), 'AEISHAYATURVEDI234@GMAIL.COM'), (9, 'AEISHA', 'CHATURVEDI', datetime.date(1998, 8, 7), 'AEISHAYATURVEDI234@GMAIL.COM')]\n",
      "PostgreSQL connection is closed\n"
     ]
    }
   ],
   "source": [
    "try:\n",
    "    Conn = psycopg2.connect(host=\"localhost\",\n",
    "    database=\"test\",\n",
    "    user=\"postgres\",\n",
    "    password=\"password\")\n",
    "    cursor = Conn.cursor()\n",
    "    # Executing a SQL query to insert data into  table\n",
    "    insert_query = \"\"\"INSERT INTO PERSONS(ID,first_name,last_name,dob,email) VALUES (9, 'AEISHA', 'CHATURVEDI','08-07-1998','AEISHAYATURVEDI234@GMAIL.COM')\"\"\"\n",
    "#query='''\\COPY persons(first_name, last_name, dob, email)\n",
    "#FROM 'pers.csv' DELIMITER ',' CSV HEADER;'''\n",
    "    cursor.execute(insert_query)\n",
    "    \n",
    "    Conn.commit()\n",
    "    print(\"Record inserted successfully\")\n",
    "#Conn.close()\n",
    "# Fetch result\n",
    "    cursor.execute(\"SELECT * from PERSONS\")\n",
    "    record = cursor.fetchall()\n",
    "    print(\"Result \", record)\n",
    "   # cursor.execute(\"DESC TABLE\")\n",
    "#update record\n",
    "    query=\"\"\"Update PERSONS set first_name = 'susa' where id = 1\"\"\"\n",
    "    cursor.execute(query)\n",
    "    Conn.commit()\n",
    "except (Exception, psycopg2.Error) as error:\n",
    "    print(\"Error while connecting to PostgreSQL\", error)\n",
    "finally:\n",
    "    if Conn:\n",
    "        cursor.close()\n",
    "        Conn.close()\n",
    "        print(\"PostgreSQL connection is closed\")\n",
    "#Conn.close()"
   ]
  },
  {
   "cell_type": "code",
   "execution_count": 168,
   "id": "9236652d",
   "metadata": {},
   "outputs": [
    {
     "name": "stdout",
     "output_type": "stream",
     "text": [
      "table CREATED successfully\n",
      "Result  [(1, 'BITS PILANI', 'PILANI,RAJASTHAN', 1)]\n",
      "PostgreSQL connection is closed\n"
     ]
    }
   ],
   "source": [
    "try:\n",
    "    Conn = psycopg2.connect(host=\"localhost\",\n",
    "    database=\"test\",\n",
    "    user=\"postgres\",\n",
    "    password=\"password\")\n",
    "    cursor = Conn.cursor()\n",
    "    # Executing a SQL query to insert data into  table\n",
    "    cursor.execute(\"DROP TABLE University\")\n",
    "    Conn.commit()\n",
    "    Create_table = \"\"\"create table University(UID INTEGER,NAME VARCHAR(20),LOCATION VARCHAR(30),STUDENTID INTEGER, FOREIGN KEY(STUDENTID) REFERENCES PERSONS(ID))\"\"\"\n",
    "#query='''\\COPY persons(first_name, last_name, dob, email)\n",
    "#FROM 'pers.csv' DELIMITER ',' CSV HEADER;'''\n",
    "    cursor.execute(Create_table)\n",
    "    Conn.commit()\n",
    "    print(\"table CREATED successfully\")\n",
    "#Conn.close()\n",
    "# Executing a SQL query to insert data into  table\n",
    "    insert_query = \"\"\"INSERT INTO University(UID,NAME,LOCATION,STUDENTID) VALUES (1, 'BITS PILANI','PILANI,RAJASTHAN','1')\"\"\"\n",
    "#query='''\\COPY persons(first_name, last_name, dob, email)\n",
    "#FROM 'pers.csv' DELIMITER ',' CSV HEADER;'''\n",
    "    cursor.execute(insert_query)\n",
    "    Conn.commit()\n",
    "# Fetch result\n",
    "    cursor.execute(\"SELECT * from University\")\n",
    "    record = cursor.fetchall()\n",
    "    print(\"Result \", record)\n",
    "#update record\n",
    "   # query=\"\"\"Update PERSONS set first_name = 'susa' where id = 1\"\"\"\n",
    "    #cursor.execute(query)\n",
    "    #Conn.commit()\n",
    "except (Exception, psycopg2.Error) as error:\n",
    "    print(\"Error while connecting to PostgreSQL\", error)\n",
    "finally:\n",
    "    if Conn:\n",
    "        cursor.close()\n",
    "        Conn.close()\n",
    "        print(\"PostgreSQL connection is closed\")\n",
    "#Conn.close()"
   ]
  },
  {
   "cell_type": "code",
   "execution_count": 170,
   "id": "5e377849",
   "metadata": {},
   "outputs": [
    {
     "name": "stdout",
     "output_type": "stream",
     "text": [
      "Result  [('susa', 'CHATURVEDI', 'BITS PILANI')]\n",
      "Record inserted successfully\n",
      "PostgreSQL connection is closed\n"
     ]
    }
   ],
   "source": [
    "try:\n",
    "    Conn = psycopg2.connect(host=\"localhost\",\n",
    "    database=\"test\",\n",
    "    user=\"postgres\",\n",
    "    password=\"password\")\n",
    "    cursor = Conn.cursor()\n",
    "    # Executing a SQL query to insert data into  table\n",
    "    insert_query =\"\"\"SELECT p.first_name,p.last_name,u.NAME FROM PERSONS p,University u WHERE u.STUDENTID=p.ID\"\"\"\n",
    "#query='''\\COPY persons(first_name, last_name, dob, email)\n",
    "#FROM 'pers.csv' DELIMITER ',' CSV HEADER;'''\n",
    "    cursor.execute(insert_query)\n",
    "    record = cursor.fetchall()\n",
    "    print(\"Result \", record)\n",
    "    Conn.commit()\n",
    "    print(\"Record inserted successfully\")\n",
    "#Conn.close()\n",
    "\n",
    "#update record\n",
    "  \n",
    "    Conn.commit()\n",
    "except (Exception, psycopg2.Error) as error:\n",
    "    print(\"Error while connecting to PostgreSQL\", error)\n",
    "finally:\n",
    "    if Conn:\n",
    "        cursor.close()\n",
    "        Conn.close()\n",
    "        print(\"PostgreSQL connection is closed\")\n",
    "#Conn.close()"
   ]
  },
  {
   "cell_type": "code",
   "execution_count": null,
   "id": "05b14444",
   "metadata": {},
   "outputs": [],
   "source": []
  }
 ],
 "metadata": {
  "kernelspec": {
   "display_name": "Python 3 (ipykernel)",
   "language": "python",
   "name": "python3"
  },
  "language_info": {
   "codemirror_mode": {
    "name": "ipython",
    "version": 3
   },
   "file_extension": ".py",
   "mimetype": "text/x-python",
   "name": "python",
   "nbconvert_exporter": "python",
   "pygments_lexer": "ipython3",
   "version": "3.9.7"
  }
 },
 "nbformat": 4,
 "nbformat_minor": 5
}
